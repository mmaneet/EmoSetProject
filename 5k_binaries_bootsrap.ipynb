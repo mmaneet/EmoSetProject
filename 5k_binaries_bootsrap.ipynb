{
 "cells": [
  {
   "cell_type": "code",
   "id": "d73df215-58bf-4ddc-89ec-ac0229f7dfc8",
   "metadata": {
    "ExecuteTime": {
     "end_time": "2025-07-26T16:34:00.887349Z",
     "start_time": "2025-07-26T16:33:59.269893Z"
    }
   },
   "source": [
    "import pandas as pd\n",
    "import numpy as np"
   ],
   "outputs": [],
   "execution_count": 1
  },
  {
   "cell_type": "code",
   "execution_count": null,
   "id": "f53e28b4-c1c9-4f94-8b3c-4e4ac9ca0670",
   "metadata": {},
   "outputs": [],
   "source": []
  },
  {
   "cell_type": "code",
   "id": "eb5ca08c-dd66-41ce-ad84-564594c44519",
   "metadata": {
    "ExecuteTime": {
     "end_time": "2025-07-26T16:34:04.571566Z",
     "start_time": "2025-07-26T16:34:04.553304Z"
    }
   },
   "source": [
    "CSV_PATH = \"diffusiondb-2m_random_5k-master-annotations_with_binaries.csv\"  # adjust path if needed\n",
    "\n",
    "df = (\n",
    "    pd.read_csv(CSV_PATH, usecols=[\"text_summated_binary\", \"img_binary\"])\n",
    "      .rename(columns={\n",
    "          \"text_summated_binary\": \"prompt_label\",\n",
    "          \"img_binary\": \"image_label\"\n",
    "      })\n",
    ")"
   ],
   "outputs": [],
   "execution_count": 3
  },
  {
   "cell_type": "code",
   "id": "03274af7-dbfd-4307-a786-62f4dae85770",
   "metadata": {
    "ExecuteTime": {
     "end_time": "2025-07-26T16:36:47.250794Z",
     "start_time": "2025-07-26T16:36:47.247744Z"
    }
   },
   "source": [
    "print(df.head())\n",
    "print(\"\\nLabel counts:\")\n",
    "print(df[\"prompt_label\"].value_counts())\n",
    "print(df[\"image_label\"].value_counts())"
   ],
   "outputs": [
    {
     "name": "stdout",
     "output_type": "stream",
     "text": [
      "   image_label  prompt_label\n",
      "0            1             1\n",
      "1            1             1\n",
      "2            0             1\n",
      "3            1             1\n",
      "4            0             1\n",
      "\n",
      "Label counts:\n",
      "prompt_label\n",
      "1    4482\n",
      "0     518\n",
      "Name: count, dtype: int64\n",
      "image_label\n",
      "0    2690\n",
      "1    2310\n",
      "Name: count, dtype: int64\n"
     ]
    }
   ],
   "execution_count": 7
  },
  {
   "cell_type": "code",
   "id": "89866be2-8a96-4183-9f7d-dd6afde70332",
   "metadata": {
    "ExecuteTime": {
     "end_time": "2025-07-26T16:37:26.291084Z",
     "start_time": "2025-07-26T16:37:26.287574Z"
    }
   },
   "source": [
    "for pl,group in df.groupby(\"prompt_label\"):\n",
    "    miss_rate = sum(group[\"image_label\"] != pl) / group.shape[0]\n",
    "    print(pl, miss_rate)"
   ],
   "outputs": [
    {
     "name": "stdout",
     "output_type": "stream",
     "text": [
      "0 0.4247104247104247\n",
      "1 0.533690316822847\n"
     ]
    }
   ],
   "execution_count": 8
  },
  {
   "cell_type": "code",
   "execution_count": null,
   "id": "31b2b5c9-d872-4b6e-b21a-7503de9d4797",
   "metadata": {},
   "outputs": [],
   "source": []
  },
  {
   "cell_type": "code",
   "id": "d8ee78a9-53a5-4f5d-8bcc-f0cf9b0b9628",
   "metadata": {
    "ExecuteTime": {
     "end_time": "2025-07-26T16:37:33.803230Z",
     "start_time": "2025-07-26T16:37:33.392169Z"
    }
   },
   "source": [
    "# Bootstrap the sample\n",
    "all_mrs = []\n",
    "for i in range(1000):\n",
    "    bt_df = df.sample(frac=1, replace=True)\n",
    "\n",
    "    local_mr = {}\n",
    "    for pl,group in bt_df.groupby(\"prompt_label\"):\n",
    "        miss_rate = sum(group[\"image_label\"] != pl) / group.shape[0]\n",
    "        local_mr[pl] = miss_rate\n",
    "\n",
    "    all_mrs.append(local_mr)"
   ],
   "outputs": [],
   "execution_count": 9
  },
  {
   "cell_type": "code",
   "id": "d301227a-7a7f-47dc-929b-a980fdc7f21b",
   "metadata": {
    "ExecuteTime": {
     "end_time": "2025-07-26T16:37:39.024441Z",
     "start_time": "2025-07-26T16:37:38.123312Z"
    }
   },
   "source": [
    "mr_df = pd.DataFrame(all_mrs)\n",
    "mr_df.plot.hist(bins=np.linspace(0,1,100), alpha=0.67)\n"
   ],
   "outputs": [
    {
     "data": {
      "text/plain": [
       "<Axes: ylabel='Frequency'>"
      ]
     },
     "execution_count": 10,
     "metadata": {},
     "output_type": "execute_result"
    },
    {
     "data": {
      "text/plain": [
       "<Figure size 640x480 with 1 Axes>"
      ],
      "image/png": "[encoded data removed]"
     },
     "metadata": {},
     "output_type": "display_data"
    }
   ],
   "execution_count": 10
  },
  {
   "cell_type": "code",
   "id": "6bb7e2cb-4d12-423e-99a9-ce7cb847dcef",
   "metadata": {
    "ExecuteTime": {
     "end_time": "2025-07-26T16:38:11.119066Z",
     "start_time": "2025-07-26T16:38:09.615608Z"
    }
   },
   "source": [
    "from scipy.stats import ttest_ind"
   ],
   "outputs": [],
   "execution_count": 11
  },
  {
   "cell_type": "code",
   "id": "824df471-012e-4b12-8a39-0c9aa2eaed77",
   "metadata": {
    "ExecuteTime": {
     "end_time": "2025-07-26T16:38:11.818601Z",
     "start_time": "2025-07-26T16:38:11.815247Z"
    }
   },
   "source": [
    "ttest_ind(mr_df[0], mr_df[1], alternative=\"less\")"
   ],
   "outputs": [
    {
     "data": {
      "text/plain": [
       "TtestResult(statistic=np.float64(-151.26919543795847), pvalue=np.float64(0.0), df=np.float64(1998.0))"
      ]
     },
     "execution_count": 12,
     "metadata": {},
     "output_type": "execute_result"
    }
   ],
   "execution_count": 12
  },
  {
   "cell_type": "code",
   "execution_count": null,
   "id": "b37f8a4c-6058-46d0-90ec-0951b736d96f",
   "metadata": {},
   "outputs": [],
   "source": []
  },
  {
   "cell_type": "code",
   "id": "ea9f53da-827c-40af-ad95-1c17e07e126a",
   "metadata": {
    "ExecuteTime": {
     "end_time": "2025-07-26T16:38:15.670223Z",
     "start_time": "2025-07-26T16:38:15.668119Z"
    }
   },
   "source": [
    "mr_df[\"diff\"] = mr_df[0] - mr_df[1]"
   ],
   "outputs": [],
   "execution_count": 13
  },
  {
   "cell_type": "code",
   "id": "5385215a-c835-4d7b-a9bc-d562320768e8",
   "metadata": {
    "ExecuteTime": {
     "end_time": "2025-07-26T16:38:17.045154Z",
     "start_time": "2025-07-26T16:38:16.957096Z"
    }
   },
   "source": [
    "mr_df[\"diff\"].plot.hist(bins=np.linspace(-1,1,200))"
   ],
   "outputs": [
    {
     "data": {
      "text/plain": [
       "<Axes: ylabel='Frequency'>"
      ]
     },
     "execution_count": 14,
     "metadata": {},
     "output_type": "execute_result"
    },
    {
     "data": {
      "text/plain": [
       "<Figure size 640x480 with 1 Axes>"
      ],
      "image/png": "[encoded data removed]"
     },
     "metadata": {},
     "output_type": "display_data"
    }
   ],
   "execution_count": 14
  },
  {
   "cell_type": "code",
   "id": "e1cc55a8-04c9-4ea0-8f94-20f877fa4b83",
   "metadata": {
    "ExecuteTime": {
     "end_time": "2025-07-26T16:38:23.444443Z",
     "start_time": "2025-07-26T16:38:23.442826Z"
    }
   },
   "source": [
    "from scipy.stats import ttest_1samp"
   ],
   "outputs": [],
   "execution_count": 15
  },
  {
   "cell_type": "code",
   "id": "dc50a22e-d9d4-4634-b92f-6ae51db65df6",
   "metadata": {
    "ExecuteTime": {
     "end_time": "2025-07-26T16:38:24.687985Z",
     "start_time": "2025-07-26T16:38:24.685004Z"
    }
   },
   "source": [
    "ttest_1samp(mr_df[\"diff\"], popmean=0.0, alternative=\"less\")"
   ],
   "outputs": [
    {
     "data": {
      "text/plain": [
       "TtestResult(statistic=np.float64(-150.1855902820807), pvalue=np.float64(0.0), df=np.int64(999))"
      ]
     },
     "execution_count": 16,
     "metadata": {},
     "output_type": "execute_result"
    }
   ],
   "execution_count": 16
  },
  {
   "cell_type": "code",
   "execution_count": null,
   "id": "3ae50460-657c-4c66-9eba-1d9a02f85f5c",
   "metadata": {},
   "outputs": [],
   "source": []
  }
 ],
 "metadata": {
  "kernelspec": {
   "display_name": "Python 3 (ipykernel)",
   "language": "python",
   "name": "python3"
  },
  "language_info": {
   "codemirror_mode": {
    "name": "ipython",
    "version": 3
   },
   "file_extension": ".py",
   "mimetype": "text/x-python",
   "name": "python",
   "nbconvert_exporter": "python",
   "pygments_lexer": "ipython3",
   "version": "3.11.10"
  }
 },
 "nbformat": 4,
 "nbformat_minor": 5
}
